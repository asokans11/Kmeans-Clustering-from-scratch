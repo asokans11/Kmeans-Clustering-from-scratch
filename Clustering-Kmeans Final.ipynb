{
 "cells": [
  {
   "cell_type": "code",
   "execution_count": 1,
   "id": "c2ff7c1d",
   "metadata": {},
   "outputs": [],
   "source": [
    "import sys\n",
    "from numpy import *\n",
    "from matplotlib import pyplot as plt\n",
    "import numpy as np\n",
    "import copy\n",
    "import csv\n",
    "import pandas as pd"
   ]
  },
  {
   "cell_type": "code",
   "execution_count": 2,
   "id": "f52395ba",
   "metadata": {},
   "outputs": [],
   "source": [
    "def loadDataSet(fileName):      #general function to parse tab -delimited floats\n",
    "    dataMat = []                #assume last column is target value\n",
    "    fr = open(fileName)\n",
    "    for line in fr.readlines():\n",
    "        curLine = line.strip().split(',')\n",
    "        fltLine = list(map(float,curLine)) #map all elements to float()\n",
    "        dataMat.append(fltLine)\n",
    "    return mat(dataMat)"
   ]
  },
  {
   "cell_type": "code",
   "execution_count": 3,
   "id": "ae807d33",
   "metadata": {},
   "outputs": [],
   "source": [
    "def loadCenterSet(fileName):      #general function to parse tab -delimited floats\n",
    "    centerMat = []                #assume last column is target value\n",
    "    fr = open(fileName)\n",
    "    for line in fr.readlines():\n",
    "        curLine = line.strip().split(',')\n",
    "        fltLine = list(map(float,curLine)) #map all elements to float()\n",
    "        centerMat.append(fltLine)\n",
    "    return mat(centerMat)"
   ]
  },
  {
   "cell_type": "code",
   "execution_count": 4,
   "id": "71b8ff2a",
   "metadata": {},
   "outputs": [],
   "source": [
    "def assignCluster(dataSet, k, centroids):\n",
    "    '''For each data point, assign it to the closest centroid\n",
    "    Inputs:\n",
    "        dataSet: each row represents an observation and \n",
    "                 each column represents an attribute\n",
    "        k:  number of clusters\n",
    "        centroids: initial centroids or centroids of last iteration\n",
    "    Output:\n",
    "        clusterAssment: list\n",
    "            assigned cluster id for each data point\n",
    "    '''\n",
    "    #TODO\n",
    "    data=dataSet\n",
    "    dataset= np.array(dataSet)\n",
    "    centroids= np.array(centroids)\n",
    "    clusterAssment=[]\n",
    "    for i in dataset:\n",
    "        initial_distance=[]\n",
    "        for j in centroids:\n",
    "            distance= math.dist(i,j)\n",
    "            initial_distance.append(distance)\n",
    "        cluster_val= initial_distance.index(min(initial_distance))\n",
    "        clusterAssment.append(cluster_val)\n",
    "    \n",
    "    #clusterAssment_df = pd.DataFrame({'observation':data.index, 'cluster':cluster})\n",
    "\n",
    "    return clusterAssment\n",
    "\n"
   ]
  },
  {
   "cell_type": "code",
   "execution_count": 5,
   "id": "c05e6cf8",
   "metadata": {},
   "outputs": [],
   "source": [
    "def getCentroid(dataSet, k, clusterAssment):\n",
    "    '''recalculate centroids\n",
    "    Input: \n",
    "        dataSet: each row represents an observation and \n",
    "            each column represents an attribute\n",
    "        k:  number of clusters\n",
    "        clusterAssment: list\n",
    "            assigned cluster id for each data point\n",
    "    Output:\n",
    "        centroids: cluster centroids\n",
    "    '''\n",
    "    \n",
    "    #TODO\n",
    "    data=pd.DataFrame(dataSet)\n",
    "    data['cluster']=clusterAssment\n",
    "    #clusterAssment=pd.Series(clusterAssment)\n",
    "    #data.insert(loc=0, column='cluster', value=clusterAssment)\n",
    "    data_sort= data.sort_values(by=['cluster'])\n",
    "    centroids=[]\n",
    "    for clus in range(0,k):\n",
    "        new_data= data_sort.loc[data_sort['cluster'] == clus]\n",
    "        for i in range(0,(len(data.columns)-1)):\n",
    "            #print(\"new column\")\n",
    "            coord_list=[]\n",
    "            for j in new_data.iloc[:,i]:\n",
    "                coord_list.append(j)\n",
    "            centroids.append(mean(coord_list))\n",
    "    centroids=np.array(centroids).reshape(k,(len(data.columns)-1))\n",
    "\n",
    "    return centroids"
   ]
  },
  {
   "cell_type": "code",
   "execution_count": 6,
   "id": "4acb0a37",
   "metadata": {},
   "outputs": [],
   "source": [
    "def kMeans(dataSet, T, k, centroids):\n",
    "    '''\n",
    "    Input:\n",
    "        dataSet: each row represents an observation and \n",
    "                each column represents an attribute\n",
    "        T:  number of iterations\n",
    "        k:  number of clusters\n",
    "        centroids: initial centroids\n",
    "    Output:\n",
    "        centroids: final cluster centroids\n",
    "        clusterAssment: list\n",
    "            assigned cluster id for each data point\n",
    "    '''\n",
    "    clusterAssment = [0] * len(dataSet)\n",
    "    pre_clusters  = [1] * len(dataSet)\n",
    "\n",
    "    i=1\n",
    "    all_centroid=[]\n",
    "    while i < T and list(pre_clusters) != list(clusterAssment):\n",
    "        pre_clusters = copy.deepcopy(clusterAssment) \n",
    "        clusterAssment = assignCluster(dataSet, k, centroids )\n",
    "        centroids      = getCentroid(dataSet, k, clusterAssment)\n",
    "        all_centroid.append(centroids)\n",
    "        i=i+1\n",
    "\n",
    "    return centroids, clusterAssment,all_centroid"
   ]
  },
  {
   "cell_type": "code",
   "execution_count": 7,
   "id": "20113aa1",
   "metadata": {},
   "outputs": [],
   "source": [
    "def saveData(save_filename, data, clusterAssment):\n",
    "    clusterAssment = np.array(clusterAssment, dtype = object)[:,None]\n",
    "    data_cluster = np.concatenate((data, clusterAssment), 1)\n",
    "    data_cluster = data_cluster.tolist()\n",
    "\n",
    "    with open(save_filename, 'w', newline = '') as f:\n",
    "        writer = csv.writer(f)\n",
    "        writer.writerows(data_cluster)\n",
    "    f.close()"
   ]
  },
  {
   "cell_type": "code",
   "execution_count": 8,
   "id": "b7305a65",
   "metadata": {},
   "outputs": [
    {
     "name": "stdout",
     "output_type": "stream",
     "text": [
      "[[-2.41271429e-01 -1.28750000e-01  6.22500000e-02  1.73350000e-01\n",
      "   2.17914286e-01  1.65169286e+00  1.90532143e+00]\n",
      " [-9.53509804e-01 -1.47164706e+00  7.75294118e-02 -1.79490196e-01\n",
      "  -1.00482353e+00  1.15121569e+00  9.68803922e-01]\n",
      " [ 1.65103659e-01  9.16524390e-02 -1.03884146e-01 -5.52585366e-01\n",
      "  -6.30085366e-01 -1.72318293e+00 -1.75481098e+00]\n",
      " [ 2.32857143e-02  2.50809524e-01 -2.76952381e-01 -3.64000000e-01\n",
      "  -7.35428571e-01 -8.94619048e-01  7.00142857e-01]\n",
      " [-1.55555556e-03  1.56506173e-01  3.56253086e-01  7.01580247e-01\n",
      "   1.00971605e+00  1.84231481e+00  1.64341975e+00]\n",
      " [-3.93289474e-02  1.53947368e-01  4.36078947e-01  1.10581579e+00\n",
      "   1.44871053e+00  3.01634211e+00  2.82938158e+00]]\n"
     ]
    }
   ],
   "source": [
    "if __name__ == '__main__':\n",
    "    '''if len(sys.argv) == 4:\n",
    "        data_filename = sys.argv[1]\n",
    "        centroid_filename = sys.argv[2]\n",
    "        k = int(sys.argv[3])\n",
    "    else:\n",
    "        '''\n",
    "        \n",
    "    data_filename = 'YeastGene.csv'\n",
    "    centroid_filename = 'YeastGene_Initial_Centroids.csv'\n",
    "    k = 6\n",
    "\n",
    "    save_filename = data_filename.replace('.csv', '_kmeans_cluster.csv')\n",
    "\n",
    "    data = loadDataSet(data_filename)\n",
    "    centroids = loadCenterSet(centroid_filename)\n",
    "    centroids, clusterAssment,all_centroid = kMeans(data, 7, k, centroids )\n",
    "    print(centroids)\n",
    "    #print(all_centroid)\n",
    "    saveData(save_filename, data, clusterAssment)"
   ]
  },
  {
   "cell_type": "code",
   "execution_count": null,
   "id": "b7aeebfd",
   "metadata": {},
   "outputs": [],
   "source": []
  }
 ],
 "metadata": {
  "kernelspec": {
   "display_name": "Python 3 (ipykernel)",
   "language": "python",
   "name": "python3"
  },
  "language_info": {
   "codemirror_mode": {
    "name": "ipython",
    "version": 3
   },
   "file_extension": ".py",
   "mimetype": "text/x-python",
   "name": "python",
   "nbconvert_exporter": "python",
   "pygments_lexer": "ipython3",
   "version": "3.9.12"
  }
 },
 "nbformat": 4,
 "nbformat_minor": 5
}
